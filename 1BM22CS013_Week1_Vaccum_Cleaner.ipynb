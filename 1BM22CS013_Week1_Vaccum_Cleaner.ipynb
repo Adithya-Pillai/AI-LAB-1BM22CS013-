{
  "nbformat": 4,
  "nbformat_minor": 0,
  "metadata": {
    "colab": {
      "provenance": []
    },
    "kernelspec": {
      "name": "python3",
      "display_name": "Python 3"
    },
    "language_info": {
      "name": "python"
    }
  },
  "cells": [
    {
      "cell_type": "code",
      "execution_count": 4,
      "metadata": {
        "colab": {
          "base_uri": "https://localhost:8080/"
        },
        "id": "EDMyAp4dc9AP",
        "outputId": "622d20cd-fd74-41fb-b20a-34e5bdbcc760"
      },
      "outputs": [
        {
          "output_type": "stream",
          "name": "stdout",
          "text": [
            "Area A is dirty,cleaning....\n",
            "Area A has been cleaned!!\n",
            "Area A has become dirty!!\n",
            "Area B is dirty,cleaning....\n",
            "Area B has been cleaned!!\n",
            "Area A is dirty,cleaning....\n",
            "Area A has been cleaned!!\n",
            "All areas clean\n",
            "Adithya Pillai(1BM22CS013)\n"
          ]
        }
      ],
      "source": [
        "import numpy as np\n",
        "import random\n",
        "\n",
        "area = np.array([\"dirty\",\"dirty\"])\n",
        "i=0\n",
        "symbols={0:'A',1:'B'}\n",
        "while True:\n",
        "  if(area[i] == \"dirty\"):\n",
        "    print(\"Area {} is dirty,cleaning....\".format(symbols[i]))\n",
        "    area[i]=\"clean\"\n",
        "    print(\"Area {} has been cleaned!!\".format(symbols[i]))\n",
        "  if(i==0):\n",
        "    i=i+1\n",
        "  else:\n",
        "    i=i-1\n",
        "  if(area[0] == \"clean\" and area[1] == \"clean\"):\n",
        "    print(\"All areas clean\")\n",
        "    break\n",
        "  if(random.choice([0,1])):\n",
        "    n =random.choice([0,1])\n",
        "    if(area[n]!=\"dirty\"):\n",
        "      area[n]=\"dirty\"\n",
        "      print(\"Area {} has become dirty!!\".format(symbols[n]))\n",
        "\n",
        "print(\"Adithya Pillai(1BM22CS013)\")"
      ]
    }
  ]
}
