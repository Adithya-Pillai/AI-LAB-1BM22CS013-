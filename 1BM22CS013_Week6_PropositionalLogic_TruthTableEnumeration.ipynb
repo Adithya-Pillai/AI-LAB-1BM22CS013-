{
  "nbformat": 4,
  "nbformat_minor": 0,
  "metadata": {
    "colab": {
      "provenance": []
    },
    "kernelspec": {
      "name": "python3",
      "display_name": "Python 3"
    },
    "language_info": {
      "name": "python"
    }
  },
  "cells": [
    {
      "cell_type": "code",
      "execution_count": 9,
      "metadata": {
        "colab": {
          "base_uri": "https://localhost:8080/"
        },
        "id": "T0wsMLt3uWA6",
        "outputId": "18bd257e-6290-4eb4-d83b-2d9d10273b3e"
      },
      "outputs": [
        {
          "output_type": "stream",
          "name": "stdout",
          "text": [
            "Q    P    R    Q -> P    P -> ¬Q   Q ∪ R     R    R -> P    Q -> R    \n",
            "1    1    1    1         0         1         1    1         1         \n",
            "1    1    0    1         0         1         0    1         0         \n",
            "1    0    1    0         1         1         1    0         1         \n",
            "1    0    0    0         1         1         0    1         0         \n",
            "0    1    1    1         1         1         1    1         1         \n",
            "KB is true: Q -> P, P -> ¬Q, Q ∪ R\n",
            "KB entails R: True\n",
            "KB entails R -> P: True\n",
            "KB entails Q -> R: True\n",
            "--------------------------------------------------\n",
            "0    1    0    1         1         0         0    1         1         \n",
            "0    0    1    1         1         1         1    0         1         \n",
            "KB is true: Q -> P, P -> ¬Q, Q ∪ R\n",
            "KB entails R: True\n",
            "KB entails R -> P: False\n",
            "KB entails Q -> R: True\n",
            "--------------------------------------------------\n",
            "0    0    0    1         1         0         0    1         1         \n"
          ]
        }
      ],
      "source": [
        "import itertools\n",
        "\n",
        "def evaluate_kb(Q, P, R):\n",
        "    q_imp_p = (not Q or P)  # Q -> P\n",
        "    p_imp_not_q = (not P or not Q)  # P -> ¬Q\n",
        "    q_union_r = (Q or R)  # Q ∪ R\n",
        "\n",
        "    # Evaluating entailments\n",
        "    r = R\n",
        "    r_imp_p = (not R or P)  # R -> P\n",
        "    q_imp_r = (not Q or R)  # Q -> R\n",
        "\n",
        "    # Return a tuple of truth values for the formulas\n",
        "    return q_imp_p, p_imp_not_q, q_union_r, r, r_imp_p, q_imp_r\n",
        "\n",
        "def truth_table():\n",
        "    values = [True, False]\n",
        "    print(f\"{'Q':<5}{'P':<5}{'R':<5}{'Q -> P':<10}{'P -> ¬Q':<10}{'Q ∪ R':<10}{'R':<5}{'R -> P':<10}{'Q -> R':<10}\")\n",
        "\n",
        "    for Q, P, R in itertools.product(values, repeat=3):\n",
        "        q_imp_p, p_imp_not_q, q_union_r, r, r_imp_p, q_imp_r = evaluate_kb(Q, P, R)\n",
        "\n",
        "        print(f\"{Q:<5}{P:<5}{R:<5}{q_imp_p:<10}{p_imp_not_q:<10}{q_union_r:<10}{r:<5}{r_imp_p:<10}{q_imp_r:<10}\")\n",
        "\n",
        "        if q_imp_p and p_imp_not_q and q_union_r:\n",
        "            print(f\"KB is true: Q -> P, P -> ¬Q, Q ∪ R\")\n",
        "            print(f\"KB entails R: {r}\")\n",
        "            print(f\"KB entails R -> P: {r_imp_p}\")\n",
        "            print(f\"KB entails Q -> R: {q_imp_r}\")\n",
        "            print(\"-\" * 50)\n",
        "\n",
        "def main():\n",
        "    truth_table()\n",
        "\n",
        "main()"
      ]
    }
  ]
}
