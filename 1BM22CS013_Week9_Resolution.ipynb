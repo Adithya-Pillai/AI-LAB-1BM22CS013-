{
  "nbformat": 4,
  "nbformat_minor": 0,
  "metadata": {
    "colab": {
      "provenance": []
    },
    "kernelspec": {
      "name": "python3",
      "display_name": "Python 3"
    },
    "language_info": {
      "name": "python"
    }
  },
  "cells": [
    {
      "cell_type": "code",
      "execution_count": 13,
      "metadata": {
        "colab": {
          "base_uri": "https://localhost:8080/"
        },
        "id": "_RG1L9N4vnJA",
        "outputId": "104702b8-1663-45b2-825a-90b69ffd6bc0"
      },
      "outputs": [
        {
          "output_type": "stream",
          "name": "stdout",
          "text": [
            "Proved by resolution: Hence, Leela is older than Oshin.\n"
          ]
        }
      ],
      "source": [
        "from itertools import combinations\n",
        "\n",
        "def unify(term1, term2, substitutions={}):\n",
        "    \"\"\"Unify two predicates using a substitution map.\"\"\"\n",
        "    if substitutions is None:\n",
        "        return None\n",
        "    elif term1 == term2:\n",
        "        return substitutions\n",
        "    elif isinstance(term1, str) and term1.islower():\n",
        "        return unify_variable(term1, term2, substitutions)\n",
        "    elif isinstance(term2, str) and term2.islower():\n",
        "        return unify_variable(term2, term1, substitutions)\n",
        "    elif isinstance(term1, tuple) and isinstance(term2, tuple) and len(term1) == len(term2):\n",
        "        return unify(term1[1:], term2[1:], unify(term1[0], term2[0], substitutions))\n",
        "    else:\n",
        "        return None\n",
        "\n",
        "def unify_variable(variable, value, substitutions):\n",
        "    \"\"\"Unify a variable with a value.\"\"\"\n",
        "    if variable in substitutions:\n",
        "        return unify(substitutions[variable], value, substitutions)\n",
        "    elif value in substitutions:\n",
        "        return unify(variable, substitutions[value], substitutions)\n",
        "    else:\n",
        "        substitutions[variable] = value\n",
        "        return substitutions\n",
        "\n",
        "def resolve(clause_a, clause_b):\n",
        "    \"\"\"Resolve two clauses and return the resolvents.\"\"\"\n",
        "    resolvents = []\n",
        "    for predicate_a in clause_a:\n",
        "        for predicate_b in clause_b:\n",
        "            substitutions = unify(predicate_a, negate(predicate_b))\n",
        "            if substitutions is not None:\n",
        "                new_clause = (apply_substitution(clause_a, substitutions) | apply_substitution(clause_b, substitutions)) - {predicate_a, predicate_b}\n",
        "                resolvents.append(frozenset(new_clause))\n",
        "    return resolvents\n",
        "\n",
        "def negate(predicate):\n",
        "    \"\"\"Negate a predicate.\"\"\"\n",
        "    return ('not', predicate) if isinstance(predicate, str) else predicate[1]\n",
        "\n",
        "def apply_substitution(clause, substitutions):\n",
        "    \"\"\"Apply substitutions to a clause.\"\"\"\n",
        "    return {apply_substitution_to_predicate(pred, substitutions) for pred in clause}\n",
        "\n",
        "def apply_substitution_to_predicate(predicate, substitutions):\n",
        "    \"\"\"Apply substitution to a single predicate.\"\"\"\n",
        "    if isinstance(predicate, str):\n",
        "        return substitutions.get(predicate, predicate)\n",
        "    else:\n",
        "        return (predicate[0],) + tuple(substitutions.get(arg, arg) for arg in predicate[1:])\n",
        "\n",
        "def resolution(knowledge_base, target_query):\n",
        "    \"\"\"Perform resolution to prove the query.\"\"\"\n",
        "    negated_query = frozenset({negate(target_query)})\n",
        "    clauses = knowledge_base | {negated_query}\n",
        "    new_clauses = set()\n",
        "\n",
        "    while True:\n",
        "        for clause1, clause2 in combinations(clauses, 2):\n",
        "            resolvents = resolve(clause1, clause2)\n",
        "            if frozenset() in resolvents:\n",
        "                return True\n",
        "            new_clauses.update(resolvents)\n",
        "        if new_clauses.issubset(clauses):\n",
        "            return False\n",
        "        clauses |= new_clauses\n",
        "\n",
        "knowledge_base = {\n",
        "    frozenset({('Mother', 'Leela', 'Oshin')}),\n",
        "    frozenset({('Alive', 'Leela')}),\n",
        "    frozenset({('not', 'Mother', 'X', 'Y')}),\n",
        "    frozenset({('Parent', 'X', 'Y')}),\n",
        "    frozenset({('not', 'Parent', 'W', 'Z')}),\n",
        "    frozenset({('not', 'Alive', 'W', 'Z')}),\n",
        "    frozenset({('Older', 'W', 'Z')}),\n",
        "}\n",
        "\n",
        "# Query: Prove Leela is older than Oshin\n",
        "target_query = ('Older', 'Leela', 'Oshin')\n",
        "\n",
        "# Run resolution\n",
        "proof_result = resolution(knowledge_base, target_query)\n",
        "if proof_result:\n",
        "    print(\"Proved by resolution: Hence, Leela is older than Oshin.\")\n",
        "else:\n",
        "    print(\"Cannot prove. Leela is not older than Oshin.\")\n"
      ]
    }
  ]
}