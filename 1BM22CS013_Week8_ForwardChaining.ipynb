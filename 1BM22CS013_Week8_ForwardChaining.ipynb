{
  "nbformat": 4,
  "nbformat_minor": 0,
  "metadata": {
    "colab": {
      "provenance": []
    },
    "kernelspec": {
      "name": "python3",
      "display_name": "Python 3"
    },
    "language_info": {
      "name": "python"
    }
  },
  "cells": [
    {
      "cell_type": "code",
      "execution_count": 1,
      "metadata": {
        "colab": {
          "base_uri": "https://localhost:8080/"
        },
        "id": "TY88HVlRl3V7",
        "outputId": "ed5f53a7-4d21-4660-af23-e0da598964ee"
      },
      "outputs": [
        {
          "output_type": "stream",
          "name": "stdout",
          "text": [
            "New Data Point: Item(P123)\n",
            "New Data Point: Rival(CompanyX)\n",
            "New Data Point: Sells(John, P123)\n",
            "New Data Point: Breach(John)\n",
            "Conclusion: John has committed a breach.\n"
          ]
        }
      ],
      "source": [
        "class DataStore:\n",
        "    def __init__(self):\n",
        "        self.data_points = set()\n",
        "        self.conditions = []\n",
        "\n",
        "    def add_data_point(self, data_point):\n",
        "        self.data_points.add(data_point)\n",
        "\n",
        "    def add_condition(self, condition):\n",
        "        self.conditions.append(condition)\n",
        "\n",
        "    def process(self):\n",
        "        updated = True\n",
        "        while updated:\n",
        "            updated = False\n",
        "            for condition in self.conditions:\n",
        "                if condition.evaluate(self.data_points):\n",
        "                    updated = True\n",
        "\n",
        "class Condition:\n",
        "    def __init__(self, inputs, outcome):\n",
        "        self.inputs = inputs\n",
        "        self.outcome = outcome\n",
        "\n",
        "    def evaluate(self, data_points):\n",
        "        if all(input_point in data_points for input_point in self.inputs):\n",
        "            if self.outcome not in data_points:\n",
        "                data_points.add(self.outcome)\n",
        "                print(f\"New Data Point: {self.outcome}\")\n",
        "                return True\n",
        "        return False\n",
        "\n",
        "# Create a new data store instance\n",
        "store = DataStore()\n",
        "\n",
        "# Add initial data points\n",
        "store.add_data_point(\"Employee(John)\")\n",
        "store.add_data_point(\"Product(P123)\")\n",
        "store.add_data_point(\"Owns(John, P123)\")\n",
        "store.add_data_point(\"Competitor(CompanyX)\")\n",
        "\n",
        "# Define conditions\n",
        "store.add_condition(Condition([\"Product(P123)\"], \"Item(P123)\"))\n",
        "store.add_condition(Condition([\"Competitor(CompanyX)\"], \"Rival(CompanyX)\"))\n",
        "store.add_condition(Condition([\"Product(P123)\", \"Owns(John, P123)\"], \"Sells(John, P123)\"))\n",
        "store.add_condition(Condition([\"Employee(John)\", \"Item(P123)\", \"Sells(John, P123)\", \"Rival(CompanyX)\"], \"Breach(John)\"))\n",
        "\n",
        "# Process conditions to infer new data points\n",
        "store.process()\n",
        "\n",
        "# Check if John is in breach\n",
        "if \"Breach(John)\" in store.data_points:\n",
        "    print(\"Conclusion: John has committed a breach.\")\n",
        "else:\n",
        "    print(\"Conclusion: No evidence of breach for John.\")\n"
      ]
    }
  ]
}